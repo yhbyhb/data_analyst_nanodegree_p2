{
 "cells": [
  {
   "cell_type": "markdown",
   "metadata": {},
   "source": [
    "# P2 : Data wrangle OpenStreetMaps Data\n",
    "## Data Wrangling with MongoDB\n",
    "\n",
    "#### _HanByul Yang_\n",
    "\n",
    "Map Area : part of Silicon Valley (including San José and Santa Clara), CA, United States \n",
    "\n",
    "https://www.openstreetmap.org/#map=13/37.3780/-121.9116\n",
    "  * longitude -122.0554 ~ -121.8277\n",
    "  * latitude 37.4588 ~ 37.2969"
   ]
  },
  {
   "cell_type": "markdown",
   "metadata": {
    "collapsed": true
   },
   "source": [
    "### 0. Preparing map files\n",
    "#### 0-1. Creating map_sample.osm\n",
    "\n",
    "Made an `.osm` file containing a sample part of the map region.\n",
    "  * Used a given sample code in https://www.udacity.com/course/viewer#!/c-nd002/l-3168208620/m-3189488621\n",
    "  * Executed `create_sample.py` for genereting `map_sample.osm` "
   ]
  },
  {
   "cell_type": "code",
   "execution_count": 1,
   "metadata": {
    "collapsed": true
   },
   "outputs": [],
   "source": [
    "run create_sample.py"
   ]
  },
  {
   "cell_type": "markdown",
   "metadata": {},
   "source": [
    "#### 0-2. Creating map.osm.json and Inserting into DB\n",
    "\n",
    "Converted `map.osm` to `map.osm.json`\n",
    "  * Used `data.py` modified version of Lesson_6 12-Preparing_for_Database\n",
    "  * Referenced Lesson_4 02-Inserting_into_DB for inserting python dictionary to mongoDB\n",
    "  * Auditing and cleaning addresses while parsing `map.osm` "
   ]
  },
  {
   "cell_type": "code",
   "execution_count": 2,
   "metadata": {
    "collapsed": false
   },
   "outputs": [],
   "source": [
    "import data\n",
    "map_data = data.process_map('map.osm', False)\n",
    "data.insert_map_data(map_data)"
   ]
  },
  {
   "cell_type": "markdown",
   "metadata": {},
   "source": [
    "### 1. Problem encountered in the Map"
   ]
  },
  {
   "cell_type": "markdown",
   "metadata": {
    "collapsed": true
   },
   "source": [
    "#### 1-1 Abbreviated street names\n",
    "After downloading map file(`map.osm`), I audited it with `audit.py` from \"Lesson 6, 11-Improving Street Names\". I noticed some street names were abbreviated with several ways, such that \"Bollinger Rd\", \"wilcox ave\" or \"Monroe St\".\n",
    "\n",
    "`audit.py` generated `audit.log` which has patterns of address with and `clean.log` which shows cleaned name."
   ]
  },
  {
   "cell_type": "code",
   "execution_count": 3,
   "metadata": {
    "collapsed": false
   },
   "outputs": [
    {
     "name": "stdout",
     "output_type": "stream",
     "text": [
      "E. Santa Clara St. -> E. Santa Clara Street\n",
      "Bollinger Rd -> Bollinger Road\n",
      "Homestead Rd -> Homestead Road\n",
      "wilcox ave -> wilcox Avenue\n",
      "E Santa Clara ave -> E Santa Clara Avenue\n",
      "Zanker Rd., San Jose, CA -> Zanker Road., San Jose, CA\n",
      "Monroe St -> Monroe Street\n",
      "170 S Market St -> 170 S Market Street\n",
      "Casa Verde St -> Casa Verde Street\n",
      "South Bascom Ave -> South Bascom Avenue\n",
      "Blake Ave -> Blake Avenue\n",
      "Park Ave -> Park Avenue\n",
      "Ann Arbor Ave -> Ann Arbor Avenue\n",
      "The Alameda Ave -> The Alameda Avenue\n",
      "E Santa Clara Ave -> E Santa Clara Avenue\n",
      "Seaboard Ave -> Seaboard Avenue\n",
      "Walsh Ave -> Walsh Avenue\n",
      "N Blaney Ave -> N Blaney Avenue\n",
      "Cabrillo Ave -> Cabrillo Avenue\n"
     ]
    }
   ],
   "source": [
    "run audit.py"
   ]
  },
  {
   "cell_type": "markdown",
   "metadata": {},
   "source": [
    "#### 1-2 Inserting map data to DB\n",
    "At first, I tried to insert map data (python dictionary format) from `map.osm.json` file. But JSON parser of python can't load large file.  \n",
    "So I decided to use generated python dictionary that is returned function `process_map()`.\n",
    "\n",
    "Here's code snippet for inserting map data to DB.\n",
    "```python\n",
    "def insert_map_data(data):\n",
    "    from pymongo import MongoClient\n",
    "    client = MongoClient(\"mongodb://localhost:27017\")\n",
    "    db = client.p2\n",
    "    db.osm.insert(data)\n",
    "```"
   ]
  },
  {
   "cell_type": "markdown",
   "metadata": {},
   "source": [
    "#### 1-3 Slowness of parsing osm file\n",
    "I used `xml.etree.ElementTree` package for paring osm file at first and it took quite a lot time.  \n",
    "So I changed with `xml.etree.cElementTree` for parsing osm file. \n",
    "\n",
    "For example, running `audit.py` changes from 21.4s to 4.8s after changing parsing package."
   ]
  },
  {
   "cell_type": "markdown",
   "metadata": {},
   "source": [
    "### 2. Data Overview\n",
    "\n",
    "This section contains basic statistics about the dataset and MongoDB queries used to gather them.\n",
    "\n",
    "#### File sizes\n",
    "`map.osm ........` 77.7 MB  \n",
    "`map.osm.json ...` 86.1 MB"
   ]
  },
  {
   "cell_type": "code",
   "execution_count": 4,
   "metadata": {
    "collapsed": false
   },
   "outputs": [],
   "source": [
    "# Prepare DB\n",
    "from pymongo import MongoClient\n",
    "from pprint import pprint\n",
    "\n",
    "client = MongoClient(\"mongodb://localhost:27017\")\n",
    "db = client.p2"
   ]
  },
  {
   "cell_type": "markdown",
   "metadata": {},
   "source": [
    "##### Number of documents"
   ]
  },
  {
   "cell_type": "code",
   "execution_count": 5,
   "metadata": {
    "collapsed": false
   },
   "outputs": [
    {
     "name": "stdout",
     "output_type": "stream",
     "text": [
      "373812\n"
     ]
    }
   ],
   "source": [
    "print db.osm.find().count()"
   ]
  },
  {
   "cell_type": "markdown",
   "metadata": {},
   "source": [
    "##### Number of node"
   ]
  },
  {
   "cell_type": "code",
   "execution_count": 6,
   "metadata": {
    "collapsed": false
   },
   "outputs": [
    {
     "name": "stdout",
     "output_type": "stream",
     "text": [
      "326104\n"
     ]
    }
   ],
   "source": [
    "print db.osm.find({\"type\" : \"node\"}).count()"
   ]
  },
  {
   "cell_type": "markdown",
   "metadata": {},
   "source": [
    "##### Number of way"
   ]
  },
  {
   "cell_type": "code",
   "execution_count": 7,
   "metadata": {
    "collapsed": false
   },
   "outputs": [
    {
     "name": "stdout",
     "output_type": "stream",
     "text": [
      "47299\n"
     ]
    }
   ],
   "source": [
    "print db.osm.find({\"type\" : \"way\"}).count()"
   ]
  },
  {
   "cell_type": "markdown",
   "metadata": {},
   "source": [
    "##### Number of relation"
   ]
  },
  {
   "cell_type": "code",
   "execution_count": 8,
   "metadata": {
    "collapsed": false
   },
   "outputs": [
    {
     "name": "stdout",
     "output_type": "stream",
     "text": [
      "409\n"
     ]
    }
   ],
   "source": [
    "print db.osm.find({\"type\" : \"relation\"}).count()"
   ]
  },
  {
   "cell_type": "markdown",
   "metadata": {},
   "source": [
    "##### Number of unique users"
   ]
  },
  {
   "cell_type": "code",
   "execution_count": 9,
   "metadata": {
    "collapsed": false
   },
   "outputs": [
    {
     "name": "stdout",
     "output_type": "stream",
     "text": [
      "730\n"
     ]
    }
   ],
   "source": [
    "print len(db.osm.distinct(\"created.user\"))"
   ]
  },
  {
   "cell_type": "markdown",
   "metadata": {},
   "source": [
    "##### Top 10 contributing user"
   ]
  },
  {
   "cell_type": "code",
   "execution_count": 10,
   "metadata": {
    "collapsed": false
   },
   "outputs": [
    {
     "name": "stdout",
     "output_type": "stream",
     "text": [
      "[{u'_id': u'n76', u'count': 83868},\n",
      " {u'_id': u'mk408', u'count': 43265},\n",
      " {u'_id': u'Bike Mapper', u'count': 40394},\n",
      " {u'_id': u'matthieun', u'count': 27643},\n",
      " {u'_id': u'nmixter', u'count': 20997},\n",
      " {u'_id': u'KindredCoda', u'count': 12747},\n",
      " {u'_id': u'StellanL', u'count': 8302},\n",
      " {u'_id': u'woodpeck_fixbot', u'count': 7493},\n",
      " {u'_id': u'adbrown', u'count': 7172},\n",
      " {u'_id': u'oldtopos', u'count': 6847}]\n"
     ]
    }
   ],
   "source": [
    "query = [\n",
    "    {\"$group\" : {\"_id\" : \"$created.user\", \"count\" : {\"$sum\":1}}},\n",
    "    {\"$sort\" : {\"count\" : -1}},\n",
    "    {\"$limit\" : 10}\n",
    "]\n",
    "result = list(db.osm.aggregate(query))\n",
    "pprint(list(result))"
   ]
  },
  {
   "cell_type": "markdown",
   "metadata": {},
   "source": [
    "##### Number of users appearing only once (having 1 post)"
   ]
  },
  {
   "cell_type": "code",
   "execution_count": 11,
   "metadata": {
    "collapsed": false
   },
   "outputs": [
    {
     "name": "stdout",
     "output_type": "stream",
     "text": [
      "[{u'_id': 1, u'num_users': 168}]\n"
     ]
    }
   ],
   "source": [
    "query = [\n",
    "    {\"$group\" : {\"_id\" : \"$created.user\", \"count\" : {\"$sum\":1}}},\n",
    "    {\"$group\":{\"_id\":\"$count\", \"num_users\":{\"$sum\":1}}},\n",
    "    {\"$sort\":{\"_id\":1}}, \n",
    "    {\"$limit\":1}\n",
    "]\n",
    "result = list(db.osm.aggregate(query))\n",
    "pprint(result)"
   ]
  },
  {
   "cell_type": "markdown",
   "metadata": {},
   "source": [
    "### 3. Additional Ideas\n",
    "\n",
    "#### Contributor statistics  \n",
    "The small number of users are contributed much of data but differences between top contributers are not big enough. There is an user ('woodpeck_fixbot') who seems to edit automatically. Here are some statistics."
   ]
  },
  {
   "cell_type": "code",
   "execution_count": 12,
   "metadata": {
    "collapsed": false
   },
   "outputs": [
    {
     "name": "stdout",
     "output_type": "stream",
     "text": [
      "Top user contribution (\"n76\") - 22.44%\n",
      "Top 10 uesrs contributions    - 69.21%\n",
      "Combined number of users making up only 1% of posts - 518 (about 71% of all users)\n"
     ]
    }
   ],
   "source": [
    "query = [\n",
    "    {\"$group\" : {\"_id\" : \"$created.user\", \"count\" : {\"$sum\":1}}},\n",
    "    {\"$sort\" : {\"count\" : 1}},\n",
    "]\n",
    "user_cont_result = list(db.osm.aggregate(query))\n",
    "\n",
    "query = [\n",
    "    {\"$group\" : {\"_id\" : \"$created.user\", \"count\" : {\"$sum\":1}}},\n",
    "    {\"$sort\" : {\"count\" : -1}},\n",
    "    {\"$limit\" : 10},\n",
    "    {\"$group\" : {\"_id\" : 0, \"total\" : {\"$sum\" : \"$count\"}}}\n",
    "]\n",
    "\n",
    "top10Docs = list(db.osm.aggregate(query))[0]['total']\n",
    "totalDocs = db.osm.find().count()\n",
    "\n",
    "topUserContribu = user_cont_result[-1]['count'] / float(totalDocs) * 100\n",
    "\n",
    "one_pecent_docs = totalDocs * 0.01\n",
    "user_1per = 0\n",
    "doc_count = 0\n",
    "for user_result in user_cont_result:\n",
    "    if (doc_count > one_pecent_docs):\n",
    "        break\n",
    "    doc_count += user_result['count']\n",
    "    user_1per += 1\n",
    "\n",
    "print('Top user contribution (\"{0}\") - {1:.2f}%'.format(user_cont_result[-1]['_id'], topUserContribu))\n",
    "print(\"Top 10 uesrs contributions    - {0:.2f}%\".format((top10Docs / float(totalDocs) * 100)))\n",
    "print('Combined number of users making up only 1% of posts - {0} (about {1:.0f}% of all users)'.format(user_1per, float(user_1per) / len(user_cont_result) * 100))"
   ]
  },
  {
   "cell_type": "markdown",
   "metadata": {},
   "source": [
    "#### Additional data exploration using MongoDB queries"
   ]
  },
  {
   "cell_type": "markdown",
   "metadata": {},
   "source": [
    "##### Top 10 appearing amenities"
   ]
  },
  {
   "cell_type": "code",
   "execution_count": 13,
   "metadata": {
    "collapsed": false
   },
   "outputs": [
    {
     "name": "stdout",
     "output_type": "stream",
     "text": [
      "[{u'_id': u'parking', u'count': 769},\n",
      " {u'_id': u'restaurant', u'count': 458},\n",
      " {u'_id': u'school', u'count': 322},\n",
      " {u'_id': u'fire_hydrant', u'count': 247},\n",
      " {u'_id': u'place_of_worship', u'count': 184},\n",
      " {u'_id': u'fast_food', u'count': 175},\n",
      " {u'_id': u'bicycle_parking', u'count': 149},\n",
      " {u'_id': u'fuel', u'count': 113},\n",
      " {u'_id': u'cafe', u'count': 113},\n",
      " {u'_id': u'toilets', u'count': 86}]\n"
     ]
    }
   ],
   "source": [
    "query = [\n",
    "    {\"$match\":{\"amenity\":{\"$exists\":1}}},\n",
    "    {\"$group\":{\"_id\":\"$amenity\",\"count\":{\"$sum\":1}}},\n",
    "    {\"$sort\":{\"count\":-1}}, \n",
    "    {\"$limit\":10}\n",
    "]\n",
    "result = list(db.osm.aggregate(query))\n",
    "pprint(result)"
   ]
  },
  {
   "cell_type": "markdown",
   "metadata": {},
   "source": [
    "##### Details about Top 1 amenity : parking\n",
    "There are 17 free parking lot."
   ]
  },
  {
   "cell_type": "code",
   "execution_count": 14,
   "metadata": {
    "collapsed": false
   },
   "outputs": [
    {
     "name": "stdout",
     "output_type": "stream",
     "text": [
      "[{u'_id': None, u'count': 745},\n",
      " {u'_id': u'no', u'count': 17},\n",
      " {u'_id': u'yes', u'count': 7}]\n"
     ]
    }
   ],
   "source": [
    "query = [\n",
    "    {\"$match\":{\"amenity\":{\"$exists\":1}, \"amenity\":\"parking\"}},\n",
    "    {\"$group\":{\"_id\":\"$fee\", \"count\":{\"$sum\":1}}},\n",
    "    {\"$sort\":{\"count\":-1}},\n",
    "    {\"$limit\":5}\n",
    "]\n",
    "result = list(db.osm.aggregate(query))\n",
    "pprint(result)"
   ]
  },
  {
   "cell_type": "markdown",
   "metadata": {},
   "source": [
    "##### Details about Top 2 amenity : restaurant"
   ]
  },
  {
   "cell_type": "code",
   "execution_count": 15,
   "metadata": {
    "collapsed": false
   },
   "outputs": [
    {
     "name": "stdout",
     "output_type": "stream",
     "text": [
      "[{u'_id': None, u'count': 168},\n",
      " {u'_id': u'chinese', u'count': 38},\n",
      " {u'_id': u'indian', u'count': 29},\n",
      " {u'_id': u'mexican', u'count': 26},\n",
      " {u'_id': u'pizza', u'count': 23},\n",
      " {u'_id': u'american', u'count': 17},\n",
      " {u'_id': u'japanese', u'count': 17},\n",
      " {u'_id': u'thai', u'count': 15},\n",
      " {u'_id': u'italian', u'count': 13},\n",
      " {u'_id': u'sandwich', u'count': 12}]\n"
     ]
    }
   ],
   "source": [
    "query = [\n",
    "    {\"$match\":{\"amenity\":{\"$exists\":1}, \"amenity\":\"restaurant\"}},\n",
    "    {\"$group\":{\"_id\":\"$cuisine\", \"count\":{\"$sum\":1}}},\n",
    "    {\"$sort\":{\"count\":-1}},\n",
    "    {\"$limit\":10}\n",
    "]\n",
    "result = list(db.osm.aggregate(query))\n",
    "pprint(result)"
   ]
  },
  {
   "cell_type": "markdown",
   "metadata": {},
   "source": [
    "#### Timestamp statistics\n",
    "It is interested to me to find historical analysis of map data. I use for \"R\" and for analysis.  "
   ]
  },
  {
   "cell_type": "code",
   "execution_count": 16,
   "metadata": {
    "collapsed": false
   },
   "outputs": [],
   "source": [
    "query = [\n",
    "    {\"$project\" : { \"_id\" : \"$id\",\n",
    "                    \"timestamp\" : \"$created.timestamp\",\n",
    "                    \"year\" : { \"$year\" : \"$created.timestamp\" },\n",
    "                    \"month\" : { \"$month\" : \"$created.timestamp\" },\n",
    "                    \"dayOfWeek\" : { \"$dayOfWeek\" : \"$created.timestamp\" },\n",
    "                   }}\n",
    "]\n",
    "results = list(db.osm.aggregate(query))\n",
    "%matplotlib inline\n",
    "import rpy2\n",
    "%load_ext rpy2.ipython\n",
    "import pandas as pd\n",
    "df = pd.DataFrame(results)\n",
    "%R -i df"
   ]
  },
  {
   "cell_type": "code",
   "execution_count": 17,
   "metadata": {
    "collapsed": false
   },
   "outputs": [],
   "source": [
    "%%R\n",
    "library(ggplot2)\n",
    "library(scales)"
   ]
  },
  {
   "cell_type": "code",
   "execution_count": 18,
   "metadata": {
    "collapsed": false
   },
   "outputs": [
    {
     "data": {
      "text/plain": [
       "                 Min.               1st Qu.                Median \n",
       "\"2007-03-08 02:02:45\" \"2011-01-03 15:43:58\" \"2013-05-11 19:33:44\" \n",
       "                 Mean               3rd Qu.                  Max. \n",
       "\"2012-08-15 15:51:56\" \"2014-03-01 03:25:05\" \"2015-04-13 08:08:55\" \n"
      ]
     },
     "metadata": {},
     "output_type": "display_data"
    }
   ],
   "source": [
    "%%R\n",
    "summary(df$timestamp)"
   ]
  },
  {
   "cell_type": "markdown",
   "metadata": {},
   "source": [
    "Map data used this project were collected since March 2007."
   ]
  },
  {
   "cell_type": "markdown",
   "metadata": {},
   "source": [
    "##### Map data count by year\n",
    "\n",
    "Yearly map data count chart shows two peaks. I guess first peak is related with growth of smartphone and second one was caused by the launch of pricing for google map in 2012. (reference : [wikipedia openstreetmap](http://en.wikipedia.org/wiki/OpenStreetMap#History) )"
   ]
  },
  {
   "cell_type": "code",
   "execution_count": 19,
   "metadata": {
    "collapsed": false
   },
   "outputs": [
    {
     "data": {
      "image/png": "[encoded data removed]"
     },
     "metadata": {},
     "output_type": "display_data"
    }
   ],
   "source": [
    "%%R\n",
    "p <- ggplot(df, aes(timestamp, ..count..)) + \n",
    "    geom_histogram(colour = \"black\", fill = \"gray\", binwidth=365*24*60*60) +\n",
    "    theme_bw() + xlab('year') + ggtitle('map data count by year ') +\n",
    "    scale_x_datetime(breaks = date_breaks(\"12 months\"),\n",
    "                     labels = date_format(\"%Y\"),\n",
    "                     limits = c(as.POSIXct(\"2007-01-01\"), \n",
    "                                as.POSIXct(\"2015-12-31\")) )\n",
    "p"
   ]
  },
  {
   "cell_type": "markdown",
   "metadata": {},
   "source": [
    "##### Map data count by month\n",
    "Note that histogram do not shows exact number of monthly created data. Its bin size is 30 days."
   ]
  },
  {
   "cell_type": "code",
   "execution_count": 20,
   "metadata": {
    "collapsed": false
   },
   "outputs": [
    {
     "data": {
      "image/png": "[encoded data removed]"
     },
     "metadata": {},
     "output_type": "display_data"
    }
   ],
   "source": [
    "%%R\n",
    "ggplot(df, aes(timestamp, ..count..)) + \n",
    "    geom_histogram(colour = \"black\", fill = \"gray\", binwidth=30*24*60*60) +\n",
    "    theme_bw() + xlab(NULL) +\n",
    "    scale_x_datetime(breaks = date_breaks(\"3 months\"),\n",
    "                     labels = date_format(\"%Y-%b\"),\n",
    "                     limits = c(as.POSIXct(\"2007-03-01\"), \n",
    "                                as.POSIXct(\"2015-6-30\")) ) +\n",
    "    theme_bw() + xlab(NULL) + ggtitle('Monthly map data count') +\n",
    "    theme(axis.text.x  = element_text(angle=60, hjust = 1, vjust = 1))"
   ]
  },
  {
   "cell_type": "markdown",
   "metadata": {},
   "source": [
    "#### Conclusion\n",
    "As the results, The top amenity of given map area is parking lot. But I couldn't analyze whether they are free or not because of missing tag value of 'fee'. I guess most of 'None' are require fee.  \n",
    "Most popular cuisine is Chinese in given map area and No. 2 is indian. I think the results shows cultural diversity of silicon valley.\n",
    "\n",
    "After this project of the map data, I realized that data for the area still have a room for improvements, although they have been well cleaned by many contributors for many years. Map also are changed over time. Recently personal devices such as smartphone have function that can trace of its location informations. I think using logs from personal devices can helps map data for correction latest informations and getting directions."
   ]
  }
 ],
 "metadata": {
  "kernelspec": {
   "display_name": "Python 2",
   "language": "python",
   "name": "python2"
  },
  "language_info": {
   "codemirror_mode": {
    "name": "ipython",
    "version": 2
   },
   "file_extension": ".py",
   "mimetype": "text/x-python",
   "name": "python",
   "nbconvert_exporter": "python",
   "pygments_lexer": "ipython2",
   "version": "2.7.9"
  }
 },
 "nbformat": 4,
 "nbformat_minor": 0
}
