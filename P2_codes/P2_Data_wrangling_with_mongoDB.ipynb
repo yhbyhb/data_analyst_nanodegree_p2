{
 "cells": [
  {
   "cell_type": "markdown",
   "metadata": {},
   "source": [
    "# P2 : Data wrangle OpenStreetMaps Data\n",
    "## Data Wrangling with MongoDB\n",
    "\n",
    "#### _HanByul Yang_\n",
    "\n",
    "Map Area : part of Silicon Valley (including San José and Santa Clara), CA, United States \n",
    "\n",
    "https://www.openstreetmap.org/#map=13/37.3780/-121.9116\n",
    "  * longitude -122.0554 ~ -121.8277\n",
    "  * latitude 37.4588 ~ 37.2969"
   ]
  },
  {
   "cell_type": "markdown",
   "metadata": {
    "collapsed": true
   },
   "source": [
    "### 0. Preparing map files\n",
    "#### 0-1. Creating map_sample.osm\n",
    "\n",
    "Made an `.osm` file containing a sample part of the map region.\n",
    "  * Used a given sample code in https://www.udacity.com/course/viewer#!/c-nd002/l-3168208620/m-3189488621\n",
    "  * Executed `create_sample.py` for genereting `map_sample.osm` "
   ]
  },
  {
   "cell_type": "code",
   "execution_count": 1,
   "metadata": {
    "collapsed": true
   },
   "outputs": [],
   "source": [
    "run create_sample.py"
   ]
  },
  {
   "cell_type": "markdown",
   "metadata": {},
   "source": [
    "#### 0-2. Creating map.osm.json and Inserting into DB\n",
    "\n",
    "Converted `map.osm` to `map.osm.json`\n",
    "  * Used `data.py` from Lesson_6 12-Preparing_for_Database\n",
    "  * Referenced Lesson_4 02-Inserting_into_DB for inserting python dictionary to mongoDB\n",
    "  * Auditing and cleaning addresses while parsing `map.osm` "
   ]
  },
  {
   "cell_type": "code",
   "execution_count": 2,
   "metadata": {
    "collapsed": false
   },
   "outputs": [],
   "source": [
    "run data.py"
   ]
  },
  {
   "cell_type": "markdown",
   "metadata": {},
   "source": [
    "### 1. Problem encountered in the Map"
   ]
  },
  {
   "cell_type": "markdown",
   "metadata": {
    "collapsed": true
   },
   "source": [
    "#### 1-1 Abbreviated street names\n",
    "After downloading map file(map.osm), I audited it with `audit.py` from \"Lesson 6, 11-Improving Street Names\". I noticed some street names were abbreviated with several ways, such that \"Bollinger Rd\", \"wilcox ave\" or \"Monroe St\".\n",
    "\n",
    "`audit.py` generated `audit.log` which has patterns of address with and `clean.log` which shows cleaned name."
   ]
  },
  {
   "cell_type": "code",
   "execution_count": 3,
   "metadata": {
    "collapsed": false
   },
   "outputs": [],
   "source": [
    "run audit.py"
   ]
  },
  {
   "cell_type": "markdown",
   "metadata": {},
   "source": [
    "Here's cleaned result.\n",
    "\n",
    "name | better name\n",
    "------------- | ------------- \n",
    "E. Santa Clara St. | E. Santa Clara Street\n",
    "Bollinger Rd | Bollinger Road\n",
    "Homestead Rd | Homestead Road\n",
    "wilcox ave | wilcox Avenue\n",
    "E Santa Clara ave | E Santa Clara Avenue\n",
    "Zanker Rd., San Jose, CA | Zanker Road., San Jose, CA\n",
    "Monroe St | Monroe Street\n",
    "170 S Market St | 170 S Market Street\n",
    "Casa Verde St | Casa Verde Street\n",
    "South Bascom Ave | South Bascom Avenue\n",
    "Blake Ave | Blake Avenue\n",
    "Park Ave | Park Avenue\n",
    "Ann Arbor Ave | Ann Arbor Avenue\n",
    "The Alameda Ave | The Alameda Avenue\n",
    "E Santa Clara Ave | E Santa Clara Avenue\n",
    "Seaboard Ave | Seaboard Avenue\n",
    "Walsh Ave | Walsh Avenue\n",
    "N Blaney Ave | N Blaney Avenue\n",
    "Cabrillo Ave | Cabrillo Avenue"
   ]
  },
  {
   "cell_type": "markdown",
   "metadata": {},
   "source": [
    "#### 1-2 Inserting map data to DB\n",
    "At first, I tried to insert map data (python dictionary format) from \"map.osm.json\" file. But JSON parser of python can't load large file. So I decided to use generated python dictionary while running \"data.py\".\n",
    "\n",
    "Here's code snippet.\n",
    "```python\n",
    "    map_file_name = 'map.osm'\n",
    "    data = process_map(map_file_name, False)\n",
    "\n",
    "    from pymongo import MongoClient\n",
    "    client = MongoClient(\"mongodb://localhost:27017\")\n",
    "    db = client.p2\n",
    "    db.osm.insert(data)\n",
    "```"
   ]
  },
  {
   "cell_type": "markdown",
   "metadata": {},
   "source": [
    "#### 1-3 Slowness of parsing osm file\n",
    "I used `xml.etree.ElementTree` package for paring osm file at first and it took quite a lot time.  \n",
    "So I changed with `xml.etree.cElementTree` for parsing osm file. \n",
    "\n",
    "For example, running `audit.py` changes from 21.4s to 4.8s after changing parsing package."
   ]
  },
  {
   "cell_type": "markdown",
   "metadata": {},
   "source": [
    "### 2. Data Overview\n",
    "\n",
    "This section contains basic statistics about the dataset and MongoDB queries used to gather them.\n",
    "\n",
    "#### File sizes\n",
    "`map.osm ........` 77.7 MB  \n",
    "`map.osm.json ...` 82.1 MB"
   ]
  },
  {
   "cell_type": "code",
   "execution_count": 4,
   "metadata": {
    "collapsed": false
   },
   "outputs": [],
   "source": [
    "# Prepare DB\n",
    "from pymongo import MongoClient\n",
    "from pprint import pprint\n",
    "\n",
    "client = MongoClient(\"mongodb://localhost:27017\")\n",
    "db = client.p2"
   ]
  },
  {
   "cell_type": "markdown",
   "metadata": {},
   "source": [
    "##### Number of documents"
   ]
  },
  {
   "cell_type": "code",
   "execution_count": 5,
   "metadata": {
    "collapsed": false
   },
   "outputs": [
    {
     "name": "stdout",
     "output_type": "stream",
     "text": [
      "373403\n"
     ]
    }
   ],
   "source": [
    "print db.osm.find().count()"
   ]
  },
  {
   "cell_type": "markdown",
   "metadata": {},
   "source": [
    "##### Number of nodes"
   ]
  },
  {
   "cell_type": "code",
   "execution_count": 6,
   "metadata": {
    "collapsed": false
   },
   "outputs": [
    {
     "name": "stdout",
     "output_type": "stream",
     "text": [
      "326104\n"
     ]
    }
   ],
   "source": [
    "print db.osm.find({\"type\" : \"node\"}).count()"
   ]
  },
  {
   "cell_type": "markdown",
   "metadata": {},
   "source": [
    "##### Number of ways"
   ]
  },
  {
   "cell_type": "code",
   "execution_count": 7,
   "metadata": {
    "collapsed": false
   },
   "outputs": [
    {
     "name": "stdout",
     "output_type": "stream",
     "text": [
      "47287\n"
     ]
    }
   ],
   "source": [
    "print db.osm.find({\"type\" : \"way\"}).count()"
   ]
  },
  {
   "cell_type": "markdown",
   "metadata": {},
   "source": [
    "##### Number of unique users"
   ]
  },
  {
   "cell_type": "code",
   "execution_count": 8,
   "metadata": {
    "collapsed": false
   },
   "outputs": [
    {
     "name": "stdout",
     "output_type": "stream",
     "text": [
      "720\n"
     ]
    }
   ],
   "source": [
    "print len(db.osm.distinct(\"created.user\"))"
   ]
  },
  {
   "cell_type": "markdown",
   "metadata": {},
   "source": [
    "##### Top 10 contributing user"
   ]
  },
  {
   "cell_type": "code",
   "execution_count": 9,
   "metadata": {
    "collapsed": false
   },
   "outputs": [
    {
     "name": "stdout",
     "output_type": "stream",
     "text": [
      "[{u'_id': u'n76', u'count': 83824},\n",
      " {u'_id': u'mk408', u'count': 43243},\n",
      " {u'_id': u'Bike Mapper', u'count': 40390},\n",
      " {u'_id': u'matthieun', u'count': 27621},\n",
      " {u'_id': u'nmixter', u'count': 20992},\n",
      " {u'_id': u'KindredCoda', u'count': 12745},\n",
      " {u'_id': u'StellanL', u'count': 8291},\n",
      " {u'_id': u'woodpeck_fixbot', u'count': 7493},\n",
      " {u'_id': u'adbrown', u'count': 7167},\n",
      " {u'_id': u'oldtopos', u'count': 6847}]\n"
     ]
    }
   ],
   "source": [
    "query = [\n",
    "    {\"$group\" : {\"_id\" : \"$created.user\", \"count\" : {\"$sum\":1}}},\n",
    "    {\"$sort\" : {\"count\" : -1}},\n",
    "    {\"$limit\" : 10}\n",
    "]\n",
    "result = db.osm.aggregate(query)['result']\n",
    "pprint(result)"
   ]
  },
  {
   "cell_type": "code",
   "execution_count": 10,
   "metadata": {
    "collapsed": false
   },
   "outputs": [
    {
     "name": "stdout",
     "output_type": "stream",
     "text": [
      "83824\n"
     ]
    }
   ],
   "source": [
    "print (result[0]['count'])"
   ]
  },
  {
   "cell_type": "markdown",
   "metadata": {},
   "source": [
    "##### Number of users appearing only once (having 1 post)"
   ]
  },
  {
   "cell_type": "code",
   "execution_count": 11,
   "metadata": {
    "collapsed": false
   },
   "outputs": [
    {
     "name": "stdout",
     "output_type": "stream",
     "text": [
      "[{u'_id': 1, u'num_users': 162}]\n"
     ]
    }
   ],
   "source": [
    "query = [\n",
    "    {\"$group\" : {\"_id\" : \"$created.user\", \"count\" : {\"$sum\":1}}},\n",
    "    {\"$group\":{\"_id\":\"$count\", \"num_users\":{\"$sum\":1}}},\n",
    "    {\"$sort\":{\"_id\":1}}, \n",
    "    {\"$limit\":1}\n",
    "]\n",
    "result = db.osm.aggregate(query)['result']\n",
    "pprint(result)"
   ]
  },
  {
   "cell_type": "markdown",
   "metadata": {},
   "source": [
    "### 3. Additional Ideas\n",
    "\n",
    "#### Contributor statistics  \n",
    "The small number of users are contributed much of data but differences between top contributers are not big enough. There is an user ('woodpeck_fixbot') who seems to edit automatically. Here are some statistics."
   ]
  },
  {
   "cell_type": "code",
   "execution_count": 12,
   "metadata": {
    "collapsed": false
   },
   "outputs": [
    {
     "name": "stdout",
     "output_type": "stream",
     "text": [
      "Top user contribution (\"n76\") - 22.45%\n",
      "Top 10 uesrs contributions    - 69.26%\n",
      "Combined number of users making up only 1% of posts - 509 (about 71% of all users)\n"
     ]
    }
   ],
   "source": [
    "query = [\n",
    "    {\"$group\" : {\"_id\" : \"$created.user\", \"count\" : {\"$sum\":1}}},\n",
    "    {\"$sort\" : {\"count\" : 1}},\n",
    "]\n",
    "user_cont_result = db.osm.aggregate(query)['result']\n",
    "\n",
    "query = [\n",
    "    {\"$group\" : {\"_id\" : \"$created.user\", \"count\" : {\"$sum\":1}}},\n",
    "    {\"$sort\" : {\"count\" : -1}},\n",
    "    {\"$limit\" : 10},\n",
    "    {\"$group\" : {\"_id\" : 0, \"total\" : {\"$sum\" : \"$count\"}}}\n",
    "]\n",
    "\n",
    "top10Docs = (db.osm.aggregate(query)['result'][0]['total'])\n",
    "totalDocs = db.osm.find().count()\n",
    "\n",
    "topUserContribu = user_cont_result[-1]['count'] / float(totalDocs) * 100\n",
    "\n",
    "one_pecent_docs = totalDocs * 0.01\n",
    "user_1per = 0\n",
    "doc_count = 0\n",
    "for user_result in user_cont_result:\n",
    "    if (doc_count > one_pecent_docs):\n",
    "        break\n",
    "    doc_count += user_result['count']\n",
    "    user_1per += 1\n",
    "\n",
    "print('Top user contribution (\"{0}\") - {1:.2f}%'.format(user_cont_result[-1]['_id'], topUserContribu))\n",
    "print(\"Top 10 uesrs contributions    - {0:.2f}%\".format((top10Docs / float(totalDocs) * 100)))\n",
    "print('Combined number of users making up only 1% of posts - {0} (about {1:.0f}% of all users)'.format(user_1per, float(user_1per) / len(user_cont_result) * 100))"
   ]
  },
  {
   "cell_type": "markdown",
   "metadata": {},
   "source": [
    "#### Additional data exploration using MongoDB queries"
   ]
  },
  {
   "cell_type": "markdown",
   "metadata": {},
   "source": [
    "##### Top 10 appearing amenities"
   ]
  },
  {
   "cell_type": "code",
   "execution_count": 13,
   "metadata": {
    "collapsed": false
   },
   "outputs": [
    {
     "name": "stdout",
     "output_type": "stream",
     "text": [
      "[{u'_id': u'parking', u'count': 768},\n",
      " {u'_id': u'restaurant', u'count': 458},\n",
      " {u'_id': u'school', u'count': 322},\n",
      " {u'_id': u'fire_hydrant', u'count': 247},\n",
      " {u'_id': u'place_of_worship', u'count': 183},\n",
      " {u'_id': u'fast_food', u'count': 175},\n",
      " {u'_id': u'bicycle_parking', u'count': 149},\n",
      " {u'_id': u'fuel', u'count': 113},\n",
      " {u'_id': u'cafe', u'count': 113},\n",
      " {u'_id': u'toilets', u'count': 86}]\n"
     ]
    }
   ],
   "source": [
    "query = [\n",
    "    {\"$match\":{\"amenity\":{\"$exists\":1}}},\n",
    "    {\"$group\":{\"_id\":\"$amenity\",\"count\":{\"$sum\":1}}},\n",
    "    {\"$sort\":{\"count\":-1}}, \n",
    "    {\"$limit\":10}\n",
    "]\n",
    "result = db.osm.aggregate(query)['result']\n",
    "pprint(result)"
   ]
  },
  {
   "cell_type": "markdown",
   "metadata": {},
   "source": [
    "##### Details about Top 1 amenity : parking\n",
    "There are 17 free parking lot."
   ]
  },
  {
   "cell_type": "code",
   "execution_count": 14,
   "metadata": {
    "collapsed": false
   },
   "outputs": [
    {
     "name": "stdout",
     "output_type": "stream",
     "text": [
      "[{u'_id': None, u'count': 744},\n",
      " {u'_id': u'no', u'count': 17},\n",
      " {u'_id': u'yes', u'count': 7}]\n"
     ]
    }
   ],
   "source": [
    "query = [\n",
    "    {\"$match\":{\"amenity\":{\"$exists\":1}, \"amenity\":\"parking\"}},\n",
    "    {\"$group\":{\"_id\":\"$fee\", \"count\":{\"$sum\":1}}},\n",
    "    {\"$sort\":{\"count\":-1}},\n",
    "    {\"$limit\":5}\n",
    "]\n",
    "result = db.osm.aggregate(query)['result']\n",
    "pprint(result)"
   ]
  },
  {
   "cell_type": "markdown",
   "metadata": {},
   "source": [
    "##### Details about Top 2 amenity : restaurant"
   ]
  },
  {
   "cell_type": "code",
   "execution_count": 15,
   "metadata": {
    "collapsed": false
   },
   "outputs": [
    {
     "name": "stdout",
     "output_type": "stream",
     "text": [
      "[{u'_id': None, u'count': 168},\n",
      " {u'_id': u'chinese', u'count': 38},\n",
      " {u'_id': u'indian', u'count': 29},\n",
      " {u'_id': u'mexican', u'count': 26},\n",
      " {u'_id': u'pizza', u'count': 23},\n",
      " {u'_id': u'american', u'count': 17},\n",
      " {u'_id': u'japanese', u'count': 17},\n",
      " {u'_id': u'thai', u'count': 15},\n",
      " {u'_id': u'italian', u'count': 13},\n",
      " {u'_id': u'sandwich', u'count': 12}]\n"
     ]
    }
   ],
   "source": [
    "query = [\n",
    "    {\"$match\":{\"amenity\":{\"$exists\":1}, \"amenity\":\"restaurant\"}},\n",
    "    {\"$group\":{\"_id\":\"$cuisine\", \"count\":{\"$sum\":1}}},\n",
    "    {\"$sort\":{\"count\":-1}},\n",
    "    {\"$limit\":10}\n",
    "]\n",
    "result = db.osm.aggregate(query)['result']\n",
    "pprint(result)"
   ]
  },
  {
   "cell_type": "markdown",
   "metadata": {},
   "source": [
    "##### Biggeest religion"
   ]
  },
  {
   "cell_type": "code",
   "execution_count": 16,
   "metadata": {
    "collapsed": false
   },
   "outputs": [
    {
     "name": "stdout",
     "output_type": "stream",
     "text": [
      "[{u'_id': u'christian', u'count': 161}]\n"
     ]
    }
   ],
   "source": [
    "query = [\n",
    "    {\"$match\":{\"amenity\":{\"$exists\":1}, \"amenity\":\"place_of_worship\"}},\n",
    "    {\"$group\":{\"_id\":\"$religion\", \"count\":{\"$sum\":1}}},\n",
    "    {\"$sort\":{\"count\":-1}}, {\"$limit\":1}\n",
    "]\n",
    "result = db.osm.aggregate(query)['result']\n",
    "pprint(result)"
   ]
  },
  {
   "cell_type": "markdown",
   "metadata": {},
   "source": [
    "#### Conclusion\n",
    "As the results, The top amenity of given map area is parking lot. But I couldn't analyze whether they are free or not because of missing tag value of 'fee'. I guess most of 'None' are require fee.  \n",
    "Most popular cuisine is chinese in given map area and No. 2 is indian. I think the results shows cultural diversity of silicon valley.\n"
   ]
  }
 ],
 "metadata": {
  "kernelspec": {
   "display_name": "Python 2",
   "language": "python",
   "name": "python2"
  },
  "language_info": {
   "codemirror_mode": {
    "name": "ipython",
    "version": 2
   },
   "file_extension": ".py",
   "mimetype": "text/x-python",
   "name": "python",
   "nbconvert_exporter": "python",
   "pygments_lexer": "ipython2",
   "version": "2.7.9"
  }
 },
 "nbformat": 4,
 "nbformat_minor": 0
}
